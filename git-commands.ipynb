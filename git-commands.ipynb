{
 "cells": [
  {
   "cell_type": "markdown",
   "metadata": {},
   "source": [
    "$\\textbf{Switch to branch called \n",
    "}$ **'brice_dev'**"
   ]
  },
  {
   "cell_type": "code",
   "execution_count": null,
   "metadata": {
    "vscode": {
     "languageId": "shellscript"
    }
   },
   "outputs": [],
   "source": [
    "git checkout brice_dev"
   ]
  },
  {
   "cell_type": "markdown",
   "metadata": {},
   "source": [
    "$\\textbf{Add all files and Commit with message}$"
   ]
  },
  {
   "cell_type": "code",
   "execution_count": null,
   "metadata": {
    "vscode": {
     "languageId": "shellscript"
    }
   },
   "outputs": [],
   "source": [
    "git add .\n",
    "git commit -m \"Le message de ton choix\"\n",
    "#to add a specific file, let's say large.java, use the following command;\n",
    "git add large.java"
   ]
  },
  {
   "cell_type": "markdown",
   "metadata": {},
   "source": [
    "$\\textbf{Push to}$ **dev** $\\textbf{branch after commit\n",
    "}$"
   ]
  },
  {
   "cell_type": "code",
   "execution_count": null,
   "metadata": {
    "vscode": {
     "languageId": "shellscript"
    }
   },
   "outputs": [],
   "source": [
    "git push origin HEAD:dev"
   ]
  },
  {
   "cell_type": "markdown",
   "metadata": {},
   "source": [
    "$\\textbf{Push to}$ **brice_dev** $\\textbf{subranch after commit\n",
    "}$"
   ]
  },
  {
   "cell_type": "code",
   "execution_count": null,
   "metadata": {
    "vscode": {
     "languageId": "shellscript"
    }
   },
   "outputs": [],
   "source": [
    "git push origin Head"
   ]
  },
  {
   "cell_type": "markdown",
   "metadata": {},
   "source": [
    "$\\textbf{Create a new branch}$ **\"ma_sous_branche\"** $\\textbf{and make it track the}$ **\"dev\"** $\\textbf{branch}$"
   ]
  },
  {
   "cell_type": "code",
   "execution_count": null,
   "metadata": {
    "vscode": {
     "languageId": "shellscript"
    }
   },
   "outputs": [],
   "source": [
    "git checkout -b ma_sous_branche #ceci creait une branche et change directement la brache sur la quelle tu es\n",
    "git branch --set-upstream-to=origin/dev ma_sous_branche\n",
    "\n",
    "# then you can review tracking information with\n",
    "git branch -vv"
   ]
  },
  {
   "cell_type": "markdown",
   "metadata": {},
   "source": [
    "$\\textbf{To undo the tracking of a branch called \"dev\", use:}$"
   ]
  },
  {
   "cell_type": "code",
   "execution_count": null,
   "metadata": {
    "vscode": {
     "languageId": "shellscript"
    }
   },
   "outputs": [],
   "source": [
    "git branch --unset-upstream my-branch #this make the branch \"dev\" to track no remote branch\n",
    "\n",
    "## you can use the following syntax to make the branch \"dev\" track a remote branch called \"dev\"\n",
    "git branch --set-upstream-to=origin/dev dev"
   ]
  },
  {
   "cell_type": "markdown",
   "metadata": {},
   "source": [
    "$\\text{The above practice is useful when the branch}$ $dev$ $\\text{includes changes which are not yet approved, when they are approuved, we can commit to the branch}$ $dev$ $\\text{then merge the branch to the}$ $main$ $\\text{branch by setting the tracking. For futher new modifications, we unset the tracking of}$ $dev$ $\\text{and set the tracking of the local branch dev to the remote branch}$ $dev$"
   ]
  },
  {
   "cell_type": "markdown",
   "metadata": {},
   "source": [
    "$\\textbf {Télécharger les modifications qui ont pu être faites}$ \\\n",
    "Avant de **'*pull*'**, Il faut s'assurer d'être sur la branche sur la quelle on veut télecharger les modifications"
   ]
  },
  {
   "cell_type": "code",
   "execution_count": null,
   "metadata": {
    "vscode": {
     "languageId": "shellscript"
    }
   },
   "outputs": [],
   "source": [
    "git pull origin dev     # ceci va telecharger les modifications faites uniquement sur la branche dev donc\n",
    "                        # donc il faudrait qu'on soit d'abord sur 'dev' avant de pouvoir pull"
   ]
  },
  {
   "cell_type": "markdown",
   "metadata": {},
   "source": [
    "$\\textbf{Create a new branch}$ **\"branche_bug\"** $\\textbf{from the existing}$ **\"dev\"** $\\textbf{branch}$ \\\n",
    "Cette branche va 'track' la branche **dev**"
   ]
  },
  {
   "cell_type": "code",
   "execution_count": null,
   "metadata": {
    "vscode": {
     "languageId": "shellscript"
    }
   },
   "outputs": [],
   "source": [
    "git checkout -b branche_bug dev     # Donc le commit de la branche 'branche_bug' pointe à la branche dev"
   ]
  },
  {
   "cell_type": "markdown",
   "metadata": {},
   "source": [
    "$\\textbf {Create a remote branch from an existing branch}$"
   ]
  },
  {
   "cell_type": "code",
   "execution_count": null,
   "metadata": {
    "vscode": {
     "languageId": "shellscript"
    }
   },
   "outputs": [],
   "source": [
    "git push -u <remote-name> <local-branch-name> # '-u' est un raccourci pour '--set-upstream'\n",
    "                                              # qui fera en sorte que la branche local 'track' une branche la le projet(en ligne)"
   ]
  },
  {
   "cell_type": "markdown",
   "metadata": {},
   "source": [
    "$\\textbf {Undo a Commit and undo add}$"
   ]
  },
  {
   "cell_type": "code",
   "execution_count": null,
   "metadata": {
    "vscode": {
     "languageId": "shellscript"
    }
   },
   "outputs": [],
   "source": [
    "git reset --soft HEAD~1         # défait le commit le plus recent. eg. HEAD~3 defait le troisème commit le plus récent\n",
    "git restore –staged file.java   # défait le le fichier file.java parmi qui qui avait été ajouté"
   ]
  }
 ],
 "metadata": {
  "language_info": {
   "name": "python"
  },
  "orig_nbformat": 4
 },
 "nbformat": 4,
 "nbformat_minor": 2
}
